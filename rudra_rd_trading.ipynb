{
 "cells": [
  {
   "cell_type": "code",
   "execution_count": 1,
   "metadata": {},
   "outputs": [],
   "source": [
    "import pandas as pd\n",
    "import numpy as np"
   ]
  },
  {
   "cell_type": "code",
   "execution_count": 2,
   "metadata": {},
   "outputs": [],
   "source": [
    "fama_french = pd.read_csv(\"data/05_df_ff_info.csv\")\n",
    "fundamentals = pd.read_csv(\"data/funda.csv\")\n",
    "stocks = pd.read_csv(\"data/monthlystocks.csv\")"
   ]
  },
  {
   "cell_type": "code",
   "execution_count": 3,
   "metadata": {},
   "outputs": [],
   "source": [
    "fundamentals = fundamentals[(fundamentals[\"exchg\"]>=11) & (fundamentals[\"exchg\"]<=19)]\n",
    "fundamentals = fundamentals[fundamentals[\"curcd\"] == \"USD\"]\n",
    "fundamentals = fundamentals[fundamentals[\"indfmt\"] == \"INDL\"]\n",
    "fundamentals = fundamentals[fundamentals[\"fic\"] == \"USA\"]\n",
    "fundamentals = fundamentals[(fundamentals[\"sic\"] <= 5999) | (fundamentals[\"sic\"] >= 7000)]"
   ]
  },
  {
   "cell_type": "code",
   "execution_count": 4,
   "metadata": {},
   "outputs": [
    {
     "data": {
      "text/plain": [
       "(181467, 17)"
      ]
     },
     "execution_count": 4,
     "metadata": {},
     "output_type": "execute_result"
    }
   ],
   "source": [
    "fundamentals.shape"
   ]
  },
  {
   "cell_type": "code",
   "execution_count": 5,
   "metadata": {},
   "outputs": [],
   "source": [
    "stocks = stocks[pd.to_numeric(stocks['RET'], errors='coerce').notnull()]\n",
    "\n",
    "stocks['RET'] = pd.to_numeric(stocks['RET'])\n",
    "\n",
    "stocks[\"date\"] = pd.to_datetime(stocks[\"date\"])\n",
    "\n",
    "stocks = stocks[(stocks[\"RET\"] < 500)]\n",
    "\n",
    "stocks = stocks[(stocks[\"RET\"] > -100)]\n",
    "\n",
    "stocks = stocks[(stocks[\"SHROUT\"] > 0)]\n",
    "\n",
    "stocks[\"PRC\"] = abs(stocks[\"PRC\"])\n",
    "\n",
    "stocks[\"PRC\"] = stocks[\"PRC\"].replace({0:np.nan})\n",
    "\n",
    "stocks[\"SHROUT\"] = stocks[\"SHROUT\"].fillna(method=\"ffill\")\n",
    "\n",
    "stocks = stocks.dropna(subset=[\"SHROUT\", \"PRC\"])\n",
    "\n",
    "stocks[\"Market Cap\"] = stocks[\"PRC\"] * stocks[\"SHROUT\"]"
   ]
  },
  {
   "cell_type": "code",
   "execution_count": 6,
   "metadata": {},
   "outputs": [
    {
     "data": {
      "text/plain": [
       "(3459593, 7)"
      ]
     },
     "execution_count": 6,
     "metadata": {},
     "output_type": "execute_result"
    }
   ],
   "source": [
    "stocks.shape"
   ]
  },
  {
   "cell_type": "code",
   "execution_count": null,
   "metadata": {},
   "outputs": [],
   "source": [
    "fundamentals['date'] = pd.to_datetime(fundamentals['date'])\n",
    "\n",
    "fundamentals['date'] = fundamentals['date'] + pd.DateOffset(months=3)\n",
    "\n",
    "fundamentals['year'] = fundamentals['datadate'].dt.year"
   ]
  }
 ],
 "metadata": {
  "kernelspec": {
   "display_name": "Python 3",
   "language": "python",
   "name": "python3"
  },
  "language_info": {
   "codemirror_mode": {
    "name": "ipython",
    "version": 3
   },
   "file_extension": ".py",
   "mimetype": "text/x-python",
   "name": "python",
   "nbconvert_exporter": "python",
   "pygments_lexer": "ipython3",
   "version": "3.10.4"
  },
  "orig_nbformat": 4,
  "vscode": {
   "interpreter": {
    "hash": "3ad933181bd8a04b432d3370b9dc3b0662ad032c4dfaa4e4f1596c548f763858"
   }
  }
 },
 "nbformat": 4,
 "nbformat_minor": 2
}
