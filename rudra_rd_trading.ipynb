{
 "cells": [
  {
   "cell_type": "code",
   "execution_count": 1,
   "metadata": {},
   "outputs": [],
   "source": [
    "import pandas as pd\n",
    "import numpy as np\n",
    "from pandas.tseries.offsets import MonthEnd"
   ]
  },
  {
   "cell_type": "code",
   "execution_count": 58,
   "metadata": {},
   "outputs": [],
   "source": [
    "fama_french_raw = pd.read_csv(\"data/05_df_ff_info.csv\")\n",
    "fundamentals_raw = pd.read_csv(\"data/funda.csv\")\n",
    "stocks_raw = pd.read_csv(\"data/monthlystocks.csv\")"
   ]
  },
  {
   "cell_type": "code",
   "execution_count": 59,
   "metadata": {},
   "outputs": [],
   "source": [
    "def clean_fundamentals(fundamentals):\n",
    "    fundamentals = fundamentals[(fundamentals[\"exchg\"]>=11) & (fundamentals[\"exchg\"]<=19)]\n",
    "    fundamentals = fundamentals[fundamentals[\"curcd\"] == \"USD\"]\n",
    "    fundamentals = fundamentals[fundamentals[\"indfmt\"] == \"INDL\"]\n",
    "    fundamentals = fundamentals[fundamentals[\"fic\"] == \"USA\"]\n",
    "    fundamentals = fundamentals[(fundamentals[\"sic\"] <= 5999) | (fundamentals[\"sic\"] >= 7000)]\n",
    "\n",
    "    fundamentals['datadate'] = pd.to_datetime(fundamentals['datadate'])\n",
    "\n",
    "    fundamentals['datadate'] = fundamentals['datadate'] + pd.DateOffset(months=3)\n",
    "\n",
    "    fundamentals['year'] = fundamentals['datadate'].dt.year\n",
    "\n",
    "    fundamentals['xrd'] = fundamentals['xrd'].fillna(0)\n",
    "\n",
    "    fundamentals = fundamentals.sort_values(by=['datadate','LPERMNO']).reset_index(drop=True)\n",
    "\n",
    "    return fundamentals"
   ]
  },
  {
   "cell_type": "code",
   "execution_count": 60,
   "metadata": {},
   "outputs": [],
   "source": [
    "def clean_stocks(stocks_input):\n",
    "    \n",
    "    stocks = stocks_input.copy()\n",
    "    stocks = stocks[pd.to_numeric(stocks['RET'], errors='coerce').notnull()]\n",
    "\n",
    "    stocks['RET'] = pd.to_numeric(stocks['RET'])\n",
    "\n",
    "    stocks[\"date\"] = pd.to_datetime(stocks[\"date\"])\n",
    "\n",
    "    stocks = stocks[(stocks[\"RET\"] < 500)]\n",
    "\n",
    "    stocks = stocks[(stocks[\"RET\"] > -100)]\n",
    "\n",
    "    stocks = stocks[(stocks[\"SHROUT\"] > 0)]\n",
    "\n",
    "    stocks[\"PRC\"] = abs(stocks[\"PRC\"])\n",
    "\n",
    "    stocks[\"PRC\"] = stocks[\"PRC\"].replace({0:np.nan})\n",
    "\n",
    "    stocks[\"SHROUT\"] = stocks[\"SHROUT\"].fillna(method=\"ffill\")\n",
    "\n",
    "    stocks = stocks.dropna(subset=[\"SHROUT\", \"PRC\"])\n",
    "\n",
    "    stocks[\"Market Cap\"] = stocks[\"PRC\"] * stocks[\"SHROUT\"]\n",
    "\n",
    "    stocks.rename({\"date\": \"datadate\", \"PERMNO\":\"LPERMNO\"}, axis=1, inplace=True)\n",
    "\n",
    "    stocks['datadate'] = stocks['datadate'] + MonthEnd(0)\n",
    "\n",
    "    stocks[\"year\"] = [i.year if i >= pd.Timestamp(year=i.year, month=4, day=1) else i.year-1 for i in stocks[\"datadate\"]]\n",
    "\n",
    "    return stocks"
   ]
  },
  {
   "cell_type": "code",
   "execution_count": 61,
   "metadata": {},
   "outputs": [],
   "source": [
    "def get_rd_capital(fundamentals):\n",
    "\n",
    "    weights = np.array([0.2, 0.4, 0.6, 0.8, 1.0])\n",
    "\n",
    "    rd_cap = fundamentals.groupby(\"LPERMNO\")[\"xrd\"].rolling(5).apply(lambda x: np.sum(weights*x)).reset_index(level=[0,1])[[\"level_1\", \"xrd\"]].set_index('level_1').rename(columns={\"xrd\": \"RDC\"})\n",
    "\n",
    "    fundamentals = pd.merge(fundamentals, rd_cap, left_index=True, right_index=True)\n",
    "\n",
    "    fundamentals = fundamentals.dropna(subset=['RDC'])\n",
    "    fundamentals = fundamentals[[\"LPERMNO\", \"datadate\", \"RDC\"]]\n",
    "\n",
    "    return fundamentals"
   ]
  },
  {
   "cell_type": "code",
   "execution_count": 62,
   "metadata": {},
   "outputs": [],
   "source": [
    "def split_rd_firms(fundamentals):\n",
    "    \n",
    "    non_rd_firms_fund = fundamentals[fundamentals[\"RDC\"] == 0].copy()\n",
    "    rd_firms_fund = fundamentals[fundamentals[\"RDC\"] > 0].copy()\n",
    "\n",
    "    rd_firms_fund[\"datadate\"] = [pd.Timestamp(year=i.year+1,month=3, day=31) if i > pd.Timestamp(year=i.year, month=4, day=1) else pd.Timestamp(year=i.year,month=3, day=31)  for i in rd_firms_fund[\"datadate\"]]\n",
    "    non_rd_firms_fund[\"datadate\"] = [pd.Timestamp(year=i.year+1,month=3, day=31) if i > pd.Timestamp(year=i.year, month=4, day=1) else pd.Timestamp(year=i.year,month=3, day=31)  for i in non_rd_firms_fund[\"datadate\"]]\n",
    "\n",
    "    return rd_firms_fund, non_rd_firms_fund"
   ]
  },
  {
   "cell_type": "code",
   "execution_count": 63,
   "metadata": {},
   "outputs": [],
   "source": [
    "def merge_stock_fundamentals(rd_firms_fund, non_rd_firms_fund, stocks):\n",
    "    rd_firms = pd.merge(stocks[[\"datadate\", \"Market Cap\", \"LPERMNO\"]], rd_firms_fund, on = [\"LPERMNO\", \"datadate\"], how=\"right\")\n",
    "    non_rd_firms = pd.merge(stocks[[\"datadate\", \"Market Cap\", \"LPERMNO\"]], non_rd_firms_fund, on = [\"LPERMNO\", \"datadate\"], how=\"right\")\n",
    "\n",
    "    rd_firms.dropna(inplace=True)\n",
    "    non_rd_firms.dropna(inplace=True)\n",
    "    \n",
    "    return rd_firms, non_rd_firms\n"
   ]
  },
  {
   "cell_type": "code",
   "execution_count": 70,
   "metadata": {},
   "outputs": [],
   "source": [
    "def remove_top_1000(rd_firms_in, non_rd_firms_in):\n",
    "\n",
    "        rd_firms_in['id'] = [\"rd-\"+str(i) for i in range(rd_firms_in.shape[0])]\n",
    "        non_rd_firms_in['id'] = [\"nonrd-\"+str(i) for i in range(non_rd_firms_in.shape[0])]\n",
    "        firms = pd.concat([rd_firms_in, non_rd_firms_in])\n",
    "        \n",
    "        temp_1 = firms.reset_index(drop=True).sort_values('Market Cap',ascending = False)\n",
    "        temp_2 = temp_1.groupby(\"year\").head(1000).sort_values(\"year\") \n",
    "\n",
    "        top_firms = temp_1[temp_1.index.isin(temp_2.index)]\n",
    "\n",
    "        removed_top_rd = rd_firms_in[~rd_firms_in[\"id\"].isin(top_firms[\"id\"])]\n",
    "        \n",
    "        removed_top_non_rd = non_rd_firms_in[~non_rd_firms_in[\"id\"].isin(top_firms[\"id\"])]   \n",
    "\n",
    "\n",
    "        return removed_top_rd, removed_top_non_rd    \n",
    "\n",
    "\n",
    "def bin_firms(rd_firms, non_rd_firms, remove_1000=False):\n",
    "\n",
    "    if remove_1000:\n",
    "        rd_firms, non_rd_firms = remove_top_1000(rd_firms.copy(), non_rd_firms.copy())\n",
    "\n",
    "\n",
    "    rd_firms[\"RDC/Market Cap\"] = rd_firms[\"RDC\"] / rd_firms[\"Market Cap\"]\n",
    "    rd_firms['bins'] = rd_firms.groupby(['datadate'])['RDC/Market Cap'].transform(lambda x: pd.qcut(x, 5, labels=[\"L\", \"2\", \"3\", \"4\", \"H\"]))\n",
    "    rd_firms[\"year\"] = rd_firms[\"datadate\"].dt.year\n",
    "    non_rd_firms[\"year\"] = non_rd_firms[\"datadate\"].dt.year\n",
    "    non_rd_firms[\"bins\"] = \"Non R&D\"\n",
    "\n",
    "    firms = pd.concat([rd_firms, non_rd_firms])\n",
    "\n",
    "    return firms, rd_firms, non_rd_firms\n",
    "    \n",
    "   "
   ]
  },
  {
   "cell_type": "code",
   "execution_count": 71,
   "metadata": {},
   "outputs": [],
   "source": [
    "def get_monthly_returns(firms, stocks, value_weighted = True):\n",
    "    \n",
    "    stocks_w_bins = pd.merge(stocks, firms[[\"LPERMNO\", \"bins\", \"year\"]], on=[\"LPERMNO\", \"year\"], how=\"inner\")\n",
    "\n",
    "    if value_weighted:\n",
    "\n",
    "        stocks_w_bins[\"Market Cap Shifted\"] = stocks_w_bins.groupby([\"LPERMNO\"])[\"Market Cap\"].shift(1)\n",
    "        stocks_w_bins.dropna(subset=[\"Market Cap Shifted\"], inplace=True)\n",
    "        \n",
    "        stocks_w_bins = pd.merge(stocks_w_bins, stocks_w_bins.groupby([\"datadate\", \"bins\"])[\"Market Cap Shifted\"].sum().reset_index(), on=[\"datadate\", \"bins\"], how=\"inner\").rename({\"Market Cap Shifted_y\": \"Sum Market Cap Shifted\", \"Market Cap Shifted_x\": \"Market Cap Shifted\"}, axis=1)\n",
    "        stocks_w_bins[\"weight\"] = stocks_w_bins[\"Market Cap Shifted\"] / stocks_w_bins[\"Sum Market Cap Shifted\"]\n",
    "        stocks_w_bins[\"stock return\"] = stocks_w_bins[\"RET\"] * stocks_w_bins[\"weight\"]\n",
    "\n",
    "        monthly_returns = stocks_w_bins.groupby([\"datadate\",\"bins\"])[\"stock return\"].sum().reset_index()\n",
    "\n",
    "\n",
    "    else:\n",
    "        stocks_w_bins = pd.merge(stocks_w_bins, stocks_w_bins.groupby([\"datadate\", \"bins\"])[\"RET\"].count().reset_index().rename({\"RET\":\"Count in Bin for Month\"}, axis=1))\n",
    "        stocks_w_bins[\"equal weight\"] = 1 /stocks_w_bins[\"Count in Bin for Month\"] \n",
    "        stocks_w_bins[\"stock return\"] = stocks_w_bins[\"RET\"] * stocks_w_bins[\"equal weight\"]\n",
    "    \n",
    "    monthly_returns = stocks_w_bins.groupby([\"datadate\",\"bins\"])[\"stock return\"].sum().reset_index()    \n",
    "    return monthly_returns"
   ]
  },
  {
   "cell_type": "code",
   "execution_count": 72,
   "metadata": {},
   "outputs": [],
   "source": [
    "def clean_fama_french(fama_french):\n",
    "    fama_french[\"Date\"] = pd.to_datetime(fama_french[\"Date\"])\n",
    "    fama_french[\"Date\"] = fama_french[\"Date\"] + MonthEnd(0)\n",
    "\n",
    "    return fama_french\n",
    "\n",
    "def get_excess_returns(monthly_returns, fama_french):\n",
    "    monthly_returns = pd.merge(monthly_returns, fama_french[[\"Date\", \"RF\"]], left_on=[\"datadate\"], right_on=[\"Date\"])\n",
    "    monthly_returns[\"Excess Returns\"] = monthly_returns[\"stock return\"] - monthly_returns[\"RF\"]\n",
    "    monthly_returns[\"Excess Returns\"] = monthly_returns[\"Excess Returns\"] * 100\n",
    "    \n",
    "    return monthly_returns\n",
    "    "
   ]
  },
  {
   "cell_type": "code",
   "execution_count": 73,
   "metadata": {},
   "outputs": [],
   "source": [
    "def get_results(monthly_returns):\n",
    "    \n",
    "    order = [\"L\", \"2\", \"3\", \"4\", \"H\", \"Non R&D\"]\n",
    "\n",
    "    first_period = pd.Timestamp(year=1981, month=7, day=1)\n",
    "    mid_period = pd.Timestamp(year=1999, month=12, day=31)\n",
    "    last_period = pd.Timestamp(year=2012, month=12, day=31)\n",
    "    extra_period = pd.Timestamp(year=2021, month=12, day=31)\n",
    "\n",
    "\n",
    "    full_period = monthly_returns[(monthly_returns[\"datadate\"] >= first_period) & (monthly_returns[\"datadate\"] <= last_period)].groupby(\"bins\")[\"Excess Returns\"].mean()[order]\n",
    "    pre_2000 = monthly_returns[(monthly_returns[\"datadate\"] >= first_period) & (monthly_returns[\"datadate\"] <= mid_period)].groupby(\"bins\")[\"Excess Returns\"].mean()[order]\n",
    "    post_2000 = monthly_returns[(monthly_returns[\"datadate\"] > mid_period) & (monthly_returns[\"datadate\"] <= last_period)].groupby(\"bins\")[\"Excess Returns\"].mean()[order]\n",
    "    extra = monthly_returns[(monthly_returns[\"datadate\"] >= first_period) & (monthly_returns[\"datadate\"] <= extra_period)].groupby(\"bins\")[\"Excess Returns\"].mean()[order]\n",
    "\n",
    "    columns=['L', '2', '3', '4', 'H', 'Non R&D']\n",
    "\n",
    "    \n",
    "\n",
    "    results = pd.DataFrame({c: pd.Series(dtype=\"float\") for c in columns})\n",
    "\n",
    "    results.loc[len(results.index)] = full_period\n",
    "    results.loc[len(results.index)] = pre_2000\n",
    "    results.loc[len(results.index)] = post_2000\n",
    "    results.loc[len(results.index)] = extra\n",
    "\n",
    "    results.index = [\"Full period\", \"Pre 2000\", \"Post 2000\", \"Full Through Dec 2021\"]\n",
    "\n",
    "    return results"
   ]
  },
  {
   "cell_type": "code",
   "execution_count": 74,
   "metadata": {},
   "outputs": [],
   "source": [
    "def clean_data(stocks_raw, fundamentals_raw, fama_french_raw):\n",
    "    stocks = clean_stocks(stocks_raw)\n",
    "    fundamentals = clean_fundamentals(fundamentals_raw)\n",
    "    fama_french = clean_fama_french(fama_french_raw)\n",
    "\n",
    "    return stocks, fundamentals, fama_french\n",
    "    \n"
   ]
  },
  {
   "cell_type": "code",
   "execution_count": 75,
   "metadata": {},
   "outputs": [],
   "source": [
    "stocks, fundamentals, fama_french = clean_data(stocks_raw, fundamentals_raw, fama_french_raw)\n",
    "fundamentals = get_rd_capital(fundamentals)\n",
    "rd_firms_fund, non_rd_firms_fund = split_rd_firms(fundamentals)\n",
    "rd_firms, non_rd_firms = merge_stock_fundamentals(rd_firms_fund, non_rd_firms_fund, stocks)\n",
    "firms, rd_firms, non_rd_firms = bin_firms(rd_firms, non_rd_firms)\n",
    "\n",
    "firms_wo_1000, rd_firms_wo_1000, non_rd_firms_wo_1000 = bin_firms(rd_firms, non_rd_firms, remove_1000=True)"
   ]
  },
  {
   "cell_type": "code",
   "execution_count": 76,
   "metadata": {},
   "outputs": [
    {
     "data": {
      "text/html": [
       "<div>\n",
       "<style scoped>\n",
       "    .dataframe tbody tr th:only-of-type {\n",
       "        vertical-align: middle;\n",
       "    }\n",
       "\n",
       "    .dataframe tbody tr th {\n",
       "        vertical-align: top;\n",
       "    }\n",
       "\n",
       "    .dataframe thead th {\n",
       "        text-align: right;\n",
       "    }\n",
       "</style>\n",
       "<table border=\"1\" class=\"dataframe\">\n",
       "  <thead>\n",
       "    <tr style=\"text-align: right;\">\n",
       "      <th></th>\n",
       "      <th>L</th>\n",
       "      <th>2</th>\n",
       "      <th>3</th>\n",
       "      <th>4</th>\n",
       "      <th>H</th>\n",
       "      <th>Non R&amp;D</th>\n",
       "    </tr>\n",
       "  </thead>\n",
       "  <tbody>\n",
       "    <tr>\n",
       "      <th>Full period</th>\n",
       "      <td>0.653925</td>\n",
       "      <td>0.771680</td>\n",
       "      <td>1.005758</td>\n",
       "      <td>1.277150</td>\n",
       "      <td>1.929399</td>\n",
       "      <td>0.948060</td>\n",
       "    </tr>\n",
       "    <tr>\n",
       "      <th>Pre 2000</th>\n",
       "      <td>0.745202</td>\n",
       "      <td>0.848916</td>\n",
       "      <td>1.091114</td>\n",
       "      <td>1.295915</td>\n",
       "      <td>1.940210</td>\n",
       "      <td>0.898827</td>\n",
       "    </tr>\n",
       "    <tr>\n",
       "      <th>Post 2000</th>\n",
       "      <td>0.529295</td>\n",
       "      <td>0.666222</td>\n",
       "      <td>0.889214</td>\n",
       "      <td>1.251529</td>\n",
       "      <td>1.914638</td>\n",
       "      <td>1.015283</td>\n",
       "    </tr>\n",
       "    <tr>\n",
       "      <th>Full Through Dec 2021</th>\n",
       "      <td>0.754317</td>\n",
       "      <td>0.883311</td>\n",
       "      <td>1.138147</td>\n",
       "      <td>1.318589</td>\n",
       "      <td>1.907781</td>\n",
       "      <td>0.999234</td>\n",
       "    </tr>\n",
       "  </tbody>\n",
       "</table>\n",
       "</div>"
      ],
      "text/plain": [
       "                              L         2         3         4         H  \\\n",
       "Full period            0.653925  0.771680  1.005758  1.277150  1.929399   \n",
       "Pre 2000               0.745202  0.848916  1.091114  1.295915  1.940210   \n",
       "Post 2000              0.529295  0.666222  0.889214  1.251529  1.914638   \n",
       "Full Through Dec 2021  0.754317  0.883311  1.138147  1.318589  1.907781   \n",
       "\n",
       "                        Non R&D  \n",
       "Full period            0.948060  \n",
       "Pre 2000               0.898827  \n",
       "Post 2000              1.015283  \n",
       "Full Through Dec 2021  0.999234  "
      ]
     },
     "metadata": {},
     "output_type": "display_data"
    },
    {
     "data": {
      "text/plain": [
       "<AxesSubplot:title={'center':'Value Weighted'}, xlabel='Bin', ylabel='Average Percent Return'>"
      ]
     },
     "execution_count": 76,
     "metadata": {},
     "output_type": "execute_result"
    },
    {
     "data": {
      "image/png": "[encoded data removed]",
      "text/plain": [
       "<Figure size 432x288 with 1 Axes>"
      ]
     },
     "metadata": {
      "needs_background": "light"
     },
     "output_type": "display_data"
    }
   ],
   "source": [
    "equal_monthly_returns = get_monthly_returns(firms, stocks, value_weighted=False)\n",
    "equal_monthly_returns = get_excess_returns(equal_monthly_returns, fama_french)\n",
    "\n",
    "equal_results = get_results(equal_monthly_returns)\n",
    "display(equal_results)\n",
    "equal_results.T.plot(ylabel=\"Average Percent Return\", xlabel=\"Bin\", title=\"Value Weighted\")"
   ]
  },
  {
   "cell_type": "code",
   "execution_count": 77,
   "metadata": {},
   "outputs": [
    {
     "data": {
      "text/html": [
       "<div>\n",
       "<style scoped>\n",
       "    .dataframe tbody tr th:only-of-type {\n",
       "        vertical-align: middle;\n",
       "    }\n",
       "\n",
       "    .dataframe tbody tr th {\n",
       "        vertical-align: top;\n",
       "    }\n",
       "\n",
       "    .dataframe thead th {\n",
       "        text-align: right;\n",
       "    }\n",
       "</style>\n",
       "<table border=\"1\" class=\"dataframe\">\n",
       "  <thead>\n",
       "    <tr style=\"text-align: right;\">\n",
       "      <th></th>\n",
       "      <th>L</th>\n",
       "      <th>2</th>\n",
       "      <th>3</th>\n",
       "      <th>4</th>\n",
       "      <th>H</th>\n",
       "      <th>Non R&amp;D</th>\n",
       "    </tr>\n",
       "  </thead>\n",
       "  <tbody>\n",
       "    <tr>\n",
       "      <th>Full period</th>\n",
       "      <td>0.607867</td>\n",
       "      <td>0.782003</td>\n",
       "      <td>0.765210</td>\n",
       "      <td>1.041920</td>\n",
       "      <td>1.162209</td>\n",
       "      <td>0.652561</td>\n",
       "    </tr>\n",
       "    <tr>\n",
       "      <th>Pre 2000</th>\n",
       "      <td>1.034415</td>\n",
       "      <td>1.190198</td>\n",
       "      <td>1.057770</td>\n",
       "      <td>1.244044</td>\n",
       "      <td>1.239480</td>\n",
       "      <td>0.925109</td>\n",
       "    </tr>\n",
       "    <tr>\n",
       "      <th>Post 2000</th>\n",
       "      <td>0.025465</td>\n",
       "      <td>0.227276</td>\n",
       "      <td>0.367629</td>\n",
       "      <td>0.765943</td>\n",
       "      <td>1.056705</td>\n",
       "      <td>0.280428</td>\n",
       "    </tr>\n",
       "    <tr>\n",
       "      <th>Full Through Dec 2021</th>\n",
       "      <td>0.706362</td>\n",
       "      <td>0.987578</td>\n",
       "      <td>0.936286</td>\n",
       "      <td>1.251671</td>\n",
       "      <td>1.333370</td>\n",
       "      <td>0.732070</td>\n",
       "    </tr>\n",
       "  </tbody>\n",
       "</table>\n",
       "</div>"
      ],
      "text/plain": [
       "                              L         2         3         4         H  \\\n",
       "Full period            0.607867  0.782003  0.765210  1.041920  1.162209   \n",
       "Pre 2000               1.034415  1.190198  1.057770  1.244044  1.239480   \n",
       "Post 2000              0.025465  0.227276  0.367629  0.765943  1.056705   \n",
       "Full Through Dec 2021  0.706362  0.987578  0.936286  1.251671  1.333370   \n",
       "\n",
       "                        Non R&D  \n",
       "Full period            0.652561  \n",
       "Pre 2000               0.925109  \n",
       "Post 2000              0.280428  \n",
       "Full Through Dec 2021  0.732070  "
      ]
     },
     "metadata": {},
     "output_type": "display_data"
    },
    {
     "data": {
      "text/plain": [
       "<AxesSubplot:title={'center':'Value Weighted'}, xlabel='Bin', ylabel='Average Percent Return'>"
      ]
     },
     "execution_count": 77,
     "metadata": {},
     "output_type": "execute_result"
    },
    {
     "data": {
      "image/png": "[encoded data removed]",
      "text/plain": [
       "<Figure size 432x288 with 1 Axes>"
      ]
     },
     "metadata": {
      "needs_background": "light"
     },
     "output_type": "display_data"
    }
   ],
   "source": [
    "value_monthly_returns = get_monthly_returns(firms, stocks, value_weighted=True)\n",
    "value_monthly_returns = get_excess_returns(value_monthly_returns, fama_french)\n",
    "\n",
    "value_results = get_results(value_monthly_returns)\n",
    "display(value_results)\n",
    "value_results.T.plot(ylabel=\"Average Percent Return\", xlabel=\"Bin\", title=\"Value Weighted\")"
   ]
  },
  {
   "cell_type": "code",
   "execution_count": 78,
   "metadata": {},
   "outputs": [
    {
     "data": {
      "text/html": [
       "<div>\n",
       "<style scoped>\n",
       "    .dataframe tbody tr th:only-of-type {\n",
       "        vertical-align: middle;\n",
       "    }\n",
       "\n",
       "    .dataframe tbody tr th {\n",
       "        vertical-align: top;\n",
       "    }\n",
       "\n",
       "    .dataframe thead th {\n",
       "        text-align: right;\n",
       "    }\n",
       "</style>\n",
       "<table border=\"1\" class=\"dataframe\">\n",
       "  <thead>\n",
       "    <tr style=\"text-align: right;\">\n",
       "      <th></th>\n",
       "      <th>L</th>\n",
       "      <th>2</th>\n",
       "      <th>3</th>\n",
       "      <th>4</th>\n",
       "      <th>H</th>\n",
       "      <th>Non R&amp;D</th>\n",
       "    </tr>\n",
       "  </thead>\n",
       "  <tbody>\n",
       "    <tr>\n",
       "      <th>Full period</th>\n",
       "      <td>0.532900</td>\n",
       "      <td>0.648375</td>\n",
       "      <td>0.961695</td>\n",
       "      <td>1.173562</td>\n",
       "      <td>1.692797</td>\n",
       "      <td>0.853584</td>\n",
       "    </tr>\n",
       "    <tr>\n",
       "      <th>Pre 2000</th>\n",
       "      <td>0.536186</td>\n",
       "      <td>0.717719</td>\n",
       "      <td>1.015820</td>\n",
       "      <td>1.140310</td>\n",
       "      <td>1.458516</td>\n",
       "      <td>0.724243</td>\n",
       "    </tr>\n",
       "    <tr>\n",
       "      <th>Post 2000</th>\n",
       "      <td>0.528413</td>\n",
       "      <td>0.554138</td>\n",
       "      <td>0.888142</td>\n",
       "      <td>1.218965</td>\n",
       "      <td>2.011179</td>\n",
       "      <td>1.030185</td>\n",
       "    </tr>\n",
       "    <tr>\n",
       "      <th>Full Through Dec 2021</th>\n",
       "      <td>0.637497</td>\n",
       "      <td>0.799676</td>\n",
       "      <td>1.113842</td>\n",
       "      <td>1.346693</td>\n",
       "      <td>1.722348</td>\n",
       "      <td>0.923622</td>\n",
       "    </tr>\n",
       "  </tbody>\n",
       "</table>\n",
       "</div>"
      ],
      "text/plain": [
       "                              L         2         3         4         H  \\\n",
       "Full period            0.532900  0.648375  0.961695  1.173562  1.692797   \n",
       "Pre 2000               0.536186  0.717719  1.015820  1.140310  1.458516   \n",
       "Post 2000              0.528413  0.554138  0.888142  1.218965  2.011179   \n",
       "Full Through Dec 2021  0.637497  0.799676  1.113842  1.346693  1.722348   \n",
       "\n",
       "                        Non R&D  \n",
       "Full period            0.853584  \n",
       "Pre 2000               0.724243  \n",
       "Post 2000              1.030185  \n",
       "Full Through Dec 2021  0.923622  "
      ]
     },
     "metadata": {},
     "output_type": "display_data"
    },
    {
     "data": {
      "text/plain": [
       "<AxesSubplot:title={'center':'Value Weighted'}, xlabel='Bin', ylabel='Average Percent Return'>"
      ]
     },
     "execution_count": 78,
     "metadata": {},
     "output_type": "execute_result"
    },
    {
     "data": {
      "image/png": "[encoded data removed]",
      "text/plain": [
       "<Figure size 432x288 with 1 Axes>"
      ]
     },
     "metadata": {
      "needs_background": "light"
     },
     "output_type": "display_data"
    }
   ],
   "source": [
    "equal_monthly_returns = get_monthly_returns(firms_wo_1000, stocks, value_weighted=True)\n",
    "equal_monthly_returns = get_excess_returns(equal_monthly_returns, fama_french)\n",
    "\n",
    "equal_results = get_results(equal_monthly_returns)\n",
    "display(equal_results)\n",
    "equal_results.T.plot(ylabel=\"Average Percent Return\", xlabel=\"Bin\", title=\"Value Weighted\")"
   ]
  },
  {
   "cell_type": "code",
   "execution_count": null,
   "metadata": {},
   "outputs": [],
   "source": []
  }
 ],
 "metadata": {
  "kernelspec": {
   "display_name": "Python 3.9.12 64-bit ('anaconda3')",
   "language": "python",
   "name": "python3"
  },
  "language_info": {
   "codemirror_mode": {
    "name": "ipython",
    "version": 3
   },
   "file_extension": ".py",
   "mimetype": "text/x-python",
   "name": "python",
   "nbconvert_exporter": "python",
   "pygments_lexer": "ipython3",
   "version": "3.9.12"
  },
  "orig_nbformat": 4,
  "vscode": {
   "interpreter": {
    "hash": "40d3a090f54c6569ab1632332b64b2c03c39dcf918b08424e98f38b5ae0af88f"
   }
  }
 },
 "nbformat": 4,
 "nbformat_minor": 2
}
