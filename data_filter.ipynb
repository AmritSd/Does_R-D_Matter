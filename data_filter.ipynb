{
 "cells": [
  {
   "cell_type": "code",
   "execution_count": 40,
   "metadata": {},
   "outputs": [
    {
     "data": {
      "text/html": [
       "<div>\n",
       "<style scoped>\n",
       "    .dataframe tbody tr th:only-of-type {\n",
       "        vertical-align: middle;\n",
       "    }\n",
       "\n",
       "    .dataframe tbody tr th {\n",
       "        vertical-align: top;\n",
       "    }\n",
       "\n",
       "    .dataframe thead th {\n",
       "        text-align: right;\n",
       "    }\n",
       "</style>\n",
       "<table border=\"1\" class=\"dataframe\">\n",
       "  <thead>\n",
       "    <tr style=\"text-align: right;\">\n",
       "      <th></th>\n",
       "      <th>Date</th>\n",
       "      <th>Mkt-RF</th>\n",
       "      <th>SMB</th>\n",
       "      <th>HML</th>\n",
       "      <th>RF</th>\n",
       "    </tr>\n",
       "  </thead>\n",
       "  <tbody>\n",
       "    <tr>\n",
       "      <th>0</th>\n",
       "      <td>1980-01</td>\n",
       "      <td>0.0551</td>\n",
       "      <td>0.0162</td>\n",
       "      <td>0.0175</td>\n",
       "      <td>0.0080</td>\n",
       "    </tr>\n",
       "    <tr>\n",
       "      <th>1</th>\n",
       "      <td>1980-02</td>\n",
       "      <td>-0.0122</td>\n",
       "      <td>-0.0185</td>\n",
       "      <td>0.0061</td>\n",
       "      <td>0.0089</td>\n",
       "    </tr>\n",
       "    <tr>\n",
       "      <th>2</th>\n",
       "      <td>1980-03</td>\n",
       "      <td>-0.1290</td>\n",
       "      <td>-0.0664</td>\n",
       "      <td>-0.0101</td>\n",
       "      <td>0.0121</td>\n",
       "    </tr>\n",
       "    <tr>\n",
       "      <th>3</th>\n",
       "      <td>1980-04</td>\n",
       "      <td>0.0397</td>\n",
       "      <td>0.0105</td>\n",
       "      <td>0.0106</td>\n",
       "      <td>0.0126</td>\n",
       "    </tr>\n",
       "    <tr>\n",
       "      <th>4</th>\n",
       "      <td>1980-05</td>\n",
       "      <td>0.0526</td>\n",
       "      <td>0.0213</td>\n",
       "      <td>0.0038</td>\n",
       "      <td>0.0081</td>\n",
       "    </tr>\n",
       "  </tbody>\n",
       "</table>\n",
       "</div>"
      ],
      "text/plain": [
       "      Date  Mkt-RF     SMB     HML      RF\n",
       "0  1980-01  0.0551  0.0162  0.0175  0.0080\n",
       "1  1980-02 -0.0122 -0.0185  0.0061  0.0089\n",
       "2  1980-03 -0.1290 -0.0664 -0.0101  0.0121\n",
       "3  1980-04  0.0397  0.0105  0.0106  0.0126\n",
       "4  1980-05  0.0526  0.0213  0.0038  0.0081"
      ]
     },
     "metadata": {},
     "output_type": "display_data"
    },
    {
     "data": {
      "text/html": [
       "<div>\n",
       "<style scoped>\n",
       "    .dataframe tbody tr th:only-of-type {\n",
       "        vertical-align: middle;\n",
       "    }\n",
       "\n",
       "    .dataframe tbody tr th {\n",
       "        vertical-align: top;\n",
       "    }\n",
       "\n",
       "    .dataframe thead th {\n",
       "        text-align: right;\n",
       "    }\n",
       "</style>\n",
       "<table border=\"1\" class=\"dataframe\">\n",
       "  <thead>\n",
       "    <tr style=\"text-align: right;\">\n",
       "      <th></th>\n",
       "      <th>GVKEY</th>\n",
       "      <th>LPERMNO</th>\n",
       "      <th>datadate</th>\n",
       "      <th>fyear</th>\n",
       "      <th>indfmt</th>\n",
       "      <th>consol</th>\n",
       "      <th>popsrc</th>\n",
       "      <th>datafmt</th>\n",
       "      <th>curcd</th>\n",
       "      <th>csho</th>\n",
       "      <th>xrd</th>\n",
       "      <th>exchg</th>\n",
       "      <th>costat</th>\n",
       "      <th>fic</th>\n",
       "      <th>mkvalt</th>\n",
       "      <th>prcc_f</th>\n",
       "      <th>sic</th>\n",
       "    </tr>\n",
       "  </thead>\n",
       "  <tbody>\n",
       "    <tr>\n",
       "      <th>0</th>\n",
       "      <td>1000</td>\n",
       "      <td>25881</td>\n",
       "      <td>12/31/1975</td>\n",
       "      <td>1975.0</td>\n",
       "      <td>INDL</td>\n",
       "      <td>C</td>\n",
       "      <td>D</td>\n",
       "      <td>STD</td>\n",
       "      <td>USD</td>\n",
       "      <td>2.098</td>\n",
       "      <td>NaN</td>\n",
       "      <td>12</td>\n",
       "      <td>I</td>\n",
       "      <td>USA</td>\n",
       "      <td>NaN</td>\n",
       "      <td>4.375</td>\n",
       "      <td>3089.0</td>\n",
       "    </tr>\n",
       "    <tr>\n",
       "      <th>1</th>\n",
       "      <td>1000</td>\n",
       "      <td>25881</td>\n",
       "      <td>12/31/1976</td>\n",
       "      <td>1976.0</td>\n",
       "      <td>INDL</td>\n",
       "      <td>C</td>\n",
       "      <td>D</td>\n",
       "      <td>STD</td>\n",
       "      <td>USD</td>\n",
       "      <td>2.207</td>\n",
       "      <td>NaN</td>\n",
       "      <td>12</td>\n",
       "      <td>I</td>\n",
       "      <td>USA</td>\n",
       "      <td>NaN</td>\n",
       "      <td>5.750</td>\n",
       "      <td>3089.0</td>\n",
       "    </tr>\n",
       "    <tr>\n",
       "      <th>2</th>\n",
       "      <td>1000</td>\n",
       "      <td>25881</td>\n",
       "      <td>12/31/1977</td>\n",
       "      <td>1977.0</td>\n",
       "      <td>INDL</td>\n",
       "      <td>C</td>\n",
       "      <td>D</td>\n",
       "      <td>STD</td>\n",
       "      <td>USD</td>\n",
       "      <td>2.226</td>\n",
       "      <td>NaN</td>\n",
       "      <td>12</td>\n",
       "      <td>I</td>\n",
       "      <td>USA</td>\n",
       "      <td>NaN</td>\n",
       "      <td>9.250</td>\n",
       "      <td>3089.0</td>\n",
       "    </tr>\n",
       "    <tr>\n",
       "      <th>3</th>\n",
       "      <td>1001</td>\n",
       "      <td>10015</td>\n",
       "      <td>12/31/1983</td>\n",
       "      <td>1983.0</td>\n",
       "      <td>INDL</td>\n",
       "      <td>C</td>\n",
       "      <td>D</td>\n",
       "      <td>STD</td>\n",
       "      <td>USD</td>\n",
       "      <td>3.568</td>\n",
       "      <td>0.0</td>\n",
       "      <td>14</td>\n",
       "      <td>I</td>\n",
       "      <td>USA</td>\n",
       "      <td>NaN</td>\n",
       "      <td>7.250</td>\n",
       "      <td>5812.0</td>\n",
       "    </tr>\n",
       "    <tr>\n",
       "      <th>4</th>\n",
       "      <td>1001</td>\n",
       "      <td>10015</td>\n",
       "      <td>12/31/1984</td>\n",
       "      <td>1984.0</td>\n",
       "      <td>INDL</td>\n",
       "      <td>C</td>\n",
       "      <td>D</td>\n",
       "      <td>STD</td>\n",
       "      <td>USD</td>\n",
       "      <td>3.568</td>\n",
       "      <td>NaN</td>\n",
       "      <td>14</td>\n",
       "      <td>I</td>\n",
       "      <td>USA</td>\n",
       "      <td>NaN</td>\n",
       "      <td>3.750</td>\n",
       "      <td>5812.0</td>\n",
       "    </tr>\n",
       "  </tbody>\n",
       "</table>\n",
       "</div>"
      ],
      "text/plain": [
       "   GVKEY  LPERMNO    datadate   fyear indfmt consol popsrc datafmt curcd  \\\n",
       "0   1000    25881  12/31/1975  1975.0   INDL      C      D     STD   USD   \n",
       "1   1000    25881  12/31/1976  1976.0   INDL      C      D     STD   USD   \n",
       "2   1000    25881  12/31/1977  1977.0   INDL      C      D     STD   USD   \n",
       "3   1001    10015  12/31/1983  1983.0   INDL      C      D     STD   USD   \n",
       "4   1001    10015  12/31/1984  1984.0   INDL      C      D     STD   USD   \n",
       "\n",
       "    csho  xrd  exchg costat  fic  mkvalt  prcc_f     sic  \n",
       "0  2.098  NaN     12      I  USA     NaN   4.375  3089.0  \n",
       "1  2.207  NaN     12      I  USA     NaN   5.750  3089.0  \n",
       "2  2.226  NaN     12      I  USA     NaN   9.250  3089.0  \n",
       "3  3.568  0.0     14      I  USA     NaN   7.250  5812.0  \n",
       "4  3.568  NaN     14      I  USA     NaN   3.750  5812.0  "
      ]
     },
     "metadata": {},
     "output_type": "display_data"
    },
    {
     "data": {
      "text/html": [
       "<div>\n",
       "<style scoped>\n",
       "    .dataframe tbody tr th:only-of-type {\n",
       "        vertical-align: middle;\n",
       "    }\n",
       "\n",
       "    .dataframe tbody tr th {\n",
       "        vertical-align: top;\n",
       "    }\n",
       "\n",
       "    .dataframe thead th {\n",
       "        text-align: right;\n",
       "    }\n",
       "</style>\n",
       "<table border=\"1\" class=\"dataframe\">\n",
       "  <thead>\n",
       "    <tr style=\"text-align: right;\">\n",
       "      <th></th>\n",
       "      <th>PERMNO</th>\n",
       "      <th>date</th>\n",
       "      <th>PRC</th>\n",
       "      <th>VOL</th>\n",
       "      <th>RET</th>\n",
       "      <th>SHROUT</th>\n",
       "    </tr>\n",
       "  </thead>\n",
       "  <tbody>\n",
       "    <tr>\n",
       "      <th>0</th>\n",
       "      <td>10000</td>\n",
       "      <td>12/31/1985</td>\n",
       "      <td>NaN</td>\n",
       "      <td>NaN</td>\n",
       "      <td>NaN</td>\n",
       "      <td>NaN</td>\n",
       "    </tr>\n",
       "    <tr>\n",
       "      <th>1</th>\n",
       "      <td>10000</td>\n",
       "      <td>01/31/1986</td>\n",
       "      <td>-4.3750</td>\n",
       "      <td>1771.0</td>\n",
       "      <td>C</td>\n",
       "      <td>3680.0</td>\n",
       "    </tr>\n",
       "    <tr>\n",
       "      <th>2</th>\n",
       "      <td>10000</td>\n",
       "      <td>02/28/1986</td>\n",
       "      <td>-3.2500</td>\n",
       "      <td>828.0</td>\n",
       "      <td>-0.257143</td>\n",
       "      <td>3680.0</td>\n",
       "    </tr>\n",
       "    <tr>\n",
       "      <th>3</th>\n",
       "      <td>10000</td>\n",
       "      <td>03/31/1986</td>\n",
       "      <td>-4.4375</td>\n",
       "      <td>1078.0</td>\n",
       "      <td>0.365385</td>\n",
       "      <td>3680.0</td>\n",
       "    </tr>\n",
       "    <tr>\n",
       "      <th>4</th>\n",
       "      <td>10000</td>\n",
       "      <td>04/30/1986</td>\n",
       "      <td>-4.0000</td>\n",
       "      <td>957.0</td>\n",
       "      <td>-0.098592</td>\n",
       "      <td>3793.0</td>\n",
       "    </tr>\n",
       "  </tbody>\n",
       "</table>\n",
       "</div>"
      ],
      "text/plain": [
       "   PERMNO        date     PRC     VOL        RET  SHROUT\n",
       "0   10000  12/31/1985     NaN     NaN        NaN     NaN\n",
       "1   10000  01/31/1986 -4.3750  1771.0          C  3680.0\n",
       "2   10000  02/28/1986 -3.2500   828.0  -0.257143  3680.0\n",
       "3   10000  03/31/1986 -4.4375  1078.0   0.365385  3680.0\n",
       "4   10000  04/30/1986 -4.0000   957.0  -0.098592  3793.0"
      ]
     },
     "metadata": {},
     "output_type": "display_data"
    }
   ],
   "source": [
    "import pandas as pd\n",
    "import numpy as np\n",
    "\n",
    "three_factor_file_name = \"./data/05_df_ff_info.csv\"\n",
    "three_factor_df = pd.read_csv(three_factor_file_name)\n",
    "\n",
    "fundamental_file_name = \"./data/funda.csv\"\n",
    "fundamental_df = pd.read_csv(fundamental_file_name)\n",
    "\n",
    "monthly_stocks_file_name = \"./data/monthlystocks.csv\"\n",
    "monthly_stocks_df = pd.read_csv(monthly_stocks_file_name)\n",
    "\n",
    "\n",
    "display(three_factor_df.head())\n",
    "display(fundamental_df.head())\n",
    "display(monthly_stocks_df.head())"
   ]
  },
  {
   "attachments": {},
   "cell_type": "markdown",
   "metadata": {},
   "source": [
    "Apply filters"
   ]
  },
  {
   "cell_type": "code",
   "execution_count": 41,
   "metadata": {},
   "outputs": [
    {
     "name": "stdout",
     "output_type": "stream",
     "text": [
      "(181467, 17)\n"
     ]
    }
   ],
   "source": [
    "# Only US companies\n",
    "filter1 = fundamental_df['indfmt'] == 'INDL'\n",
    "filter2 = fundamental_df['curcd'] == 'USD'\n",
    "filter3 = fundamental_df['fic'] == 'USA'\n",
    "\n",
    "# Only big exchanges\n",
    "filter4 = fundamental_df['exchg'] >= 11\n",
    "filter5 = fundamental_df['exchg'] <= 19\n",
    "\n",
    "# Remove finance companies\n",
    "filter6 = ((fundamental_df['sic'] < 6000) | (fundamental_df['sic'] > 6999))\n",
    "\n",
    "# Apply filters\n",
    "fundamental_df = fundamental_df[filter1 & filter2 & filter3 & filter4 & filter5 & filter6]\n",
    "\n",
    "print(fundamental_df.shape)"
   ]
  },
  {
   "attachments": {},
   "cell_type": "markdown",
   "metadata": {},
   "source": [
    "Filter abnormal returns"
   ]
  },
  {
   "cell_type": "code",
   "execution_count": 42,
   "metadata": {},
   "outputs": [],
   "source": [
    "# Filter out NA values in RET column\n",
    "not_na = monthly_stocks_df['RET'].notna()\n",
    "monthly_stocks_df = monthly_stocks_df[not_na]\n",
    "\n",
    "# Filter out non-float values in RET column (e.g. 'C')\n",
    "monthly_stocks_df[\"RET\"] = monthly_stocks_df[\"RET\"].apply(pd.to_numeric, errors='coerce')\n",
    "\n",
    "# Filter out outliers\n",
    "filter1 = monthly_stocks_df['RET'] > -100\n",
    "filter2 = monthly_stocks_df['RET'] < 500\n",
    "monthly_stocks_df = monthly_stocks_df[filter1 & filter2]\n"
   ]
  },
  {
   "attachments": {},
   "cell_type": "markdown",
   "metadata": {},
   "source": [
    "Calc market cap"
   ]
  },
  {
   "cell_type": "code",
   "execution_count": 43,
   "metadata": {},
   "outputs": [],
   "source": [
    "filter1 = monthly_stocks_df['SHROUT'] > 0\n",
    "monthly_stocks_df = monthly_stocks_df[filter1]\n",
    "\n",
    "# Get most recent SHROUT if missing\n",
    "monthly_stocks_df['SHROUT'].fillna(method='ffill', inplace=True)\n",
    "\n",
    "# Fix price\n",
    "monthly_stocks_df['PRC'] = abs(monthly_stocks_df['PRC'])\n",
    "monthly_stocks_df['PRC'].replace(0, np.nan, inplace=True)\n",
    "\n",
    "# Drop na\n",
    "monthly_stocks_df.dropna(subset=['SHROUT', 'PRC'], inplace=True)\n",
    "\n",
    "# Calculate market cap\n",
    "monthly_stocks_df['MKT_CAP'] = monthly_stocks_df['PRC'] * monthly_stocks_df['SHROUT']"
   ]
  },
  {
   "cell_type": "code",
   "execution_count": 44,
   "metadata": {},
   "outputs": [
    {
     "data": {
      "text/plain": [
       "(3459593, 7)"
      ]
     },
     "execution_count": 44,
     "metadata": {},
     "output_type": "execute_result"
    }
   ],
   "source": [
    "monthly_stocks_df.shape"
   ]
  },
  {
   "attachments": {},
   "cell_type": "markdown",
   "metadata": {},
   "source": [
    "Parse date column and shift datadate by 3 months to avoid lookahead bias"
   ]
  },
  {
   "cell_type": "code",
   "execution_count": 45,
   "metadata": {},
   "outputs": [],
   "source": [
    "# Fundamental data parse datadate column\n",
    "fundamental_df['datadate'] = pd.to_datetime(fundamental_df['datadate'], format='%m/%d/%Y')\n",
    "\n",
    "# Shift it forward by 3 months\n",
    "fundamental_df['datadate'] = fundamental_df['datadate'] + pd.DateOffset(months=3)\n",
    "\n",
    "# Create a year column\n",
    "fundamental_df['year'] = fundamental_df['datadate'].dt.year"
   ]
  },
  {
   "attachments": {},
   "cell_type": "markdown",
   "metadata": {},
   "source": [
    "XRD calculation"
   ]
  },
  {
   "cell_type": "code",
   "execution_count": 46,
   "metadata": {},
   "outputs": [],
   "source": [
    "# Fill xrd column with 0 if it is NA\n",
    "fundamental_df['xrd'].fillna(0, inplace=True)\n",
    "\n",
    "# Sort the dataframe\n",
    "fundamental_df.sort_values(by=['datadate', 'LPERMNO'], inplace=True)\n",
    "fundamental_df.reset_index(drop=True, inplace=True)\n",
    "\n",
    "def calc_weighted_avg(five_period_series):\n",
    "    # xt * 1 + xt-1 * 0.8 + xt-2 * 0.6 + xt-3 * 0.4 + xt-4 * 0.2\n",
    "    return five_period_series[4] * 1 + five_period_series[3] * 0.8 + five_period_series[2] * 0.6 + five_period_series[1] * 0.4 + five_period_series[0] * 0.2\n",
    "\n",
    "# Calculate 5-period average of xrd\n",
    "rdc = fundamental_df.groupby('LPERMNO')['xrd'].rolling(5).apply(calc_weighted_avg, raw=True)\n",
    "rdc.reset_index(level=0, drop=True, inplace=True)\n",
    "rdc.sort_index(inplace=True)\n",
    "\n",
    "fundamental_df['rdc'] = rdc\n",
    "\n",
    "fundamental_df.dropna(subset=['rdc'], inplace=True)"
   ]
  },
  {
   "attachments": {},
   "cell_type": "markdown",
   "metadata": {},
   "source": [
    "Split firms into R&D firms "
   ]
  },
  {
   "cell_type": "code",
   "execution_count": 47,
   "metadata": {},
   "outputs": [],
   "source": [
    "non_rd_firms = fundamental_df[fundamental_df['rdc'] == 0]\n",
    "rd_firms = fundamental_df[fundamental_df['rdc'] > 0]"
   ]
  },
  {
   "cell_type": "code",
   "execution_count": 48,
   "metadata": {},
   "outputs": [
    {
     "name": "stdout",
     "output_type": "stream",
     "text": [
      "The shape of the dataframes are (61209, 19) and (61083, 19)\n",
      "The shape of fundamental_df is (122292, 19)\n"
     ]
    }
   ],
   "source": [
    "print(\"The shape of the dataframes are {} and {}\".format(non_rd_firms.shape, rd_firms.shape))\n",
    "print(\"The shape of fundamental_df is {}\".format(fundamental_df.shape))"
   ]
  },
  {
   "attachments": {},
   "cell_type": "markdown",
   "metadata": {},
   "source": [
    "Drop the useless columns"
   ]
  },
  {
   "cell_type": "code",
   "execution_count": null,
   "metadata": {},
   "outputs": [],
   "source": []
  }
 ],
 "metadata": {
  "kernelspec": {
   "display_name": "Python 3 (ipykernel)",
   "language": "python",
   "name": "python3"
  },
  "language_info": {
   "codemirror_mode": {
    "name": "ipython",
    "version": 3
   },
   "file_extension": ".py",
   "mimetype": "text/x-python",
   "name": "python",
   "nbconvert_exporter": "python",
   "pygments_lexer": "ipython3",
   "version": "3.10.4"
  },
  "orig_nbformat": 4,
  "vscode": {
   "interpreter": {
    "hash": "3ad933181bd8a04b432d3370b9dc3b0662ad032c4dfaa4e4f1596c548f763858"
   }
  }
 },
 "nbformat": 4,
 "nbformat_minor": 2
}
