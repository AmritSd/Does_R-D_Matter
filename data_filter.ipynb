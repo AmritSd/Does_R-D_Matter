{
 "cells": [
  {
   "cell_type": "code",
   "execution_count": 1,
   "metadata": {},
   "outputs": [
    {
     "data": {
      "text/html": [
       "<div>\n",
       "<style scoped>\n",
       "    .dataframe tbody tr th:only-of-type {\n",
       "        vertical-align: middle;\n",
       "    }\n",
       "\n",
       "    .dataframe tbody tr th {\n",
       "        vertical-align: top;\n",
       "    }\n",
       "\n",
       "    .dataframe thead th {\n",
       "        text-align: right;\n",
       "    }\n",
       "</style>\n",
       "<table border=\"1\" class=\"dataframe\">\n",
       "  <thead>\n",
       "    <tr style=\"text-align: right;\">\n",
       "      <th></th>\n",
       "      <th>Date</th>\n",
       "      <th>Mkt-RF</th>\n",
       "      <th>SMB</th>\n",
       "      <th>HML</th>\n",
       "      <th>RF</th>\n",
       "    </tr>\n",
       "  </thead>\n",
       "  <tbody>\n",
       "    <tr>\n",
       "      <th>0</th>\n",
       "      <td>1980-01</td>\n",
       "      <td>0.0551</td>\n",
       "      <td>0.0162</td>\n",
       "      <td>0.0175</td>\n",
       "      <td>0.0080</td>\n",
       "    </tr>\n",
       "    <tr>\n",
       "      <th>1</th>\n",
       "      <td>1980-02</td>\n",
       "      <td>-0.0122</td>\n",
       "      <td>-0.0185</td>\n",
       "      <td>0.0061</td>\n",
       "      <td>0.0089</td>\n",
       "    </tr>\n",
       "    <tr>\n",
       "      <th>2</th>\n",
       "      <td>1980-03</td>\n",
       "      <td>-0.1290</td>\n",
       "      <td>-0.0664</td>\n",
       "      <td>-0.0101</td>\n",
       "      <td>0.0121</td>\n",
       "    </tr>\n",
       "    <tr>\n",
       "      <th>3</th>\n",
       "      <td>1980-04</td>\n",
       "      <td>0.0397</td>\n",
       "      <td>0.0105</td>\n",
       "      <td>0.0106</td>\n",
       "      <td>0.0126</td>\n",
       "    </tr>\n",
       "    <tr>\n",
       "      <th>4</th>\n",
       "      <td>1980-05</td>\n",
       "      <td>0.0526</td>\n",
       "      <td>0.0213</td>\n",
       "      <td>0.0038</td>\n",
       "      <td>0.0081</td>\n",
       "    </tr>\n",
       "  </tbody>\n",
       "</table>\n",
       "</div>"
      ],
      "text/plain": [
       "      Date  Mkt-RF     SMB     HML      RF\n",
       "0  1980-01  0.0551  0.0162  0.0175  0.0080\n",
       "1  1980-02 -0.0122 -0.0185  0.0061  0.0089\n",
       "2  1980-03 -0.1290 -0.0664 -0.0101  0.0121\n",
       "3  1980-04  0.0397  0.0105  0.0106  0.0126\n",
       "4  1980-05  0.0526  0.0213  0.0038  0.0081"
      ]
     },
     "metadata": {},
     "output_type": "display_data"
    },
    {
     "data": {
      "text/html": [
       "<div>\n",
       "<style scoped>\n",
       "    .dataframe tbody tr th:only-of-type {\n",
       "        vertical-align: middle;\n",
       "    }\n",
       "\n",
       "    .dataframe tbody tr th {\n",
       "        vertical-align: top;\n",
       "    }\n",
       "\n",
       "    .dataframe thead th {\n",
       "        text-align: right;\n",
       "    }\n",
       "</style>\n",
       "<table border=\"1\" class=\"dataframe\">\n",
       "  <thead>\n",
       "    <tr style=\"text-align: right;\">\n",
       "      <th></th>\n",
       "      <th>GVKEY</th>\n",
       "      <th>LPERMNO</th>\n",
       "      <th>datadate</th>\n",
       "      <th>fyear</th>\n",
       "      <th>indfmt</th>\n",
       "      <th>consol</th>\n",
       "      <th>popsrc</th>\n",
       "      <th>datafmt</th>\n",
       "      <th>curcd</th>\n",
       "      <th>csho</th>\n",
       "      <th>xrd</th>\n",
       "      <th>exchg</th>\n",
       "      <th>costat</th>\n",
       "      <th>fic</th>\n",
       "      <th>mkvalt</th>\n",
       "      <th>prcc_f</th>\n",
       "      <th>sic</th>\n",
       "    </tr>\n",
       "  </thead>\n",
       "  <tbody>\n",
       "    <tr>\n",
       "      <th>0</th>\n",
       "      <td>1000</td>\n",
       "      <td>25881</td>\n",
       "      <td>12/31/1975</td>\n",
       "      <td>1975.0</td>\n",
       "      <td>INDL</td>\n",
       "      <td>C</td>\n",
       "      <td>D</td>\n",
       "      <td>STD</td>\n",
       "      <td>USD</td>\n",
       "      <td>2.098</td>\n",
       "      <td>NaN</td>\n",
       "      <td>12</td>\n",
       "      <td>I</td>\n",
       "      <td>USA</td>\n",
       "      <td>NaN</td>\n",
       "      <td>4.375</td>\n",
       "      <td>3089.0</td>\n",
       "    </tr>\n",
       "    <tr>\n",
       "      <th>1</th>\n",
       "      <td>1000</td>\n",
       "      <td>25881</td>\n",
       "      <td>12/31/1976</td>\n",
       "      <td>1976.0</td>\n",
       "      <td>INDL</td>\n",
       "      <td>C</td>\n",
       "      <td>D</td>\n",
       "      <td>STD</td>\n",
       "      <td>USD</td>\n",
       "      <td>2.207</td>\n",
       "      <td>NaN</td>\n",
       "      <td>12</td>\n",
       "      <td>I</td>\n",
       "      <td>USA</td>\n",
       "      <td>NaN</td>\n",
       "      <td>5.750</td>\n",
       "      <td>3089.0</td>\n",
       "    </tr>\n",
       "    <tr>\n",
       "      <th>2</th>\n",
       "      <td>1000</td>\n",
       "      <td>25881</td>\n",
       "      <td>12/31/1977</td>\n",
       "      <td>1977.0</td>\n",
       "      <td>INDL</td>\n",
       "      <td>C</td>\n",
       "      <td>D</td>\n",
       "      <td>STD</td>\n",
       "      <td>USD</td>\n",
       "      <td>2.226</td>\n",
       "      <td>NaN</td>\n",
       "      <td>12</td>\n",
       "      <td>I</td>\n",
       "      <td>USA</td>\n",
       "      <td>NaN</td>\n",
       "      <td>9.250</td>\n",
       "      <td>3089.0</td>\n",
       "    </tr>\n",
       "    <tr>\n",
       "      <th>3</th>\n",
       "      <td>1001</td>\n",
       "      <td>10015</td>\n",
       "      <td>12/31/1983</td>\n",
       "      <td>1983.0</td>\n",
       "      <td>INDL</td>\n",
       "      <td>C</td>\n",
       "      <td>D</td>\n",
       "      <td>STD</td>\n",
       "      <td>USD</td>\n",
       "      <td>3.568</td>\n",
       "      <td>0.0</td>\n",
       "      <td>14</td>\n",
       "      <td>I</td>\n",
       "      <td>USA</td>\n",
       "      <td>NaN</td>\n",
       "      <td>7.250</td>\n",
       "      <td>5812.0</td>\n",
       "    </tr>\n",
       "    <tr>\n",
       "      <th>4</th>\n",
       "      <td>1001</td>\n",
       "      <td>10015</td>\n",
       "      <td>12/31/1984</td>\n",
       "      <td>1984.0</td>\n",
       "      <td>INDL</td>\n",
       "      <td>C</td>\n",
       "      <td>D</td>\n",
       "      <td>STD</td>\n",
       "      <td>USD</td>\n",
       "      <td>3.568</td>\n",
       "      <td>NaN</td>\n",
       "      <td>14</td>\n",
       "      <td>I</td>\n",
       "      <td>USA</td>\n",
       "      <td>NaN</td>\n",
       "      <td>3.750</td>\n",
       "      <td>5812.0</td>\n",
       "    </tr>\n",
       "  </tbody>\n",
       "</table>\n",
       "</div>"
      ],
      "text/plain": [
       "   GVKEY  LPERMNO    datadate   fyear indfmt consol popsrc datafmt curcd  \\\n",
       "0   1000    25881  12/31/1975  1975.0   INDL      C      D     STD   USD   \n",
       "1   1000    25881  12/31/1976  1976.0   INDL      C      D     STD   USD   \n",
       "2   1000    25881  12/31/1977  1977.0   INDL      C      D     STD   USD   \n",
       "3   1001    10015  12/31/1983  1983.0   INDL      C      D     STD   USD   \n",
       "4   1001    10015  12/31/1984  1984.0   INDL      C      D     STD   USD   \n",
       "\n",
       "    csho  xrd  exchg costat  fic  mkvalt  prcc_f     sic  \n",
       "0  2.098  NaN     12      I  USA     NaN   4.375  3089.0  \n",
       "1  2.207  NaN     12      I  USA     NaN   5.750  3089.0  \n",
       "2  2.226  NaN     12      I  USA     NaN   9.250  3089.0  \n",
       "3  3.568  0.0     14      I  USA     NaN   7.250  5812.0  \n",
       "4  3.568  NaN     14      I  USA     NaN   3.750  5812.0  "
      ]
     },
     "metadata": {},
     "output_type": "display_data"
    },
    {
     "data": {
      "text/html": [
       "<div>\n",
       "<style scoped>\n",
       "    .dataframe tbody tr th:only-of-type {\n",
       "        vertical-align: middle;\n",
       "    }\n",
       "\n",
       "    .dataframe tbody tr th {\n",
       "        vertical-align: top;\n",
       "    }\n",
       "\n",
       "    .dataframe thead th {\n",
       "        text-align: right;\n",
       "    }\n",
       "</style>\n",
       "<table border=\"1\" class=\"dataframe\">\n",
       "  <thead>\n",
       "    <tr style=\"text-align: right;\">\n",
       "      <th></th>\n",
       "      <th>PERMNO</th>\n",
       "      <th>date</th>\n",
       "      <th>PRC</th>\n",
       "      <th>VOL</th>\n",
       "      <th>RET</th>\n",
       "      <th>SHROUT</th>\n",
       "    </tr>\n",
       "  </thead>\n",
       "  <tbody>\n",
       "    <tr>\n",
       "      <th>0</th>\n",
       "      <td>10000</td>\n",
       "      <td>12/31/1985</td>\n",
       "      <td>NaN</td>\n",
       "      <td>NaN</td>\n",
       "      <td>NaN</td>\n",
       "      <td>NaN</td>\n",
       "    </tr>\n",
       "    <tr>\n",
       "      <th>1</th>\n",
       "      <td>10000</td>\n",
       "      <td>01/31/1986</td>\n",
       "      <td>-4.3750</td>\n",
       "      <td>1771.0</td>\n",
       "      <td>C</td>\n",
       "      <td>3680.0</td>\n",
       "    </tr>\n",
       "    <tr>\n",
       "      <th>2</th>\n",
       "      <td>10000</td>\n",
       "      <td>02/28/1986</td>\n",
       "      <td>-3.2500</td>\n",
       "      <td>828.0</td>\n",
       "      <td>-0.257143</td>\n",
       "      <td>3680.0</td>\n",
       "    </tr>\n",
       "    <tr>\n",
       "      <th>3</th>\n",
       "      <td>10000</td>\n",
       "      <td>03/31/1986</td>\n",
       "      <td>-4.4375</td>\n",
       "      <td>1078.0</td>\n",
       "      <td>0.365385</td>\n",
       "      <td>3680.0</td>\n",
       "    </tr>\n",
       "    <tr>\n",
       "      <th>4</th>\n",
       "      <td>10000</td>\n",
       "      <td>04/30/1986</td>\n",
       "      <td>-4.0000</td>\n",
       "      <td>957.0</td>\n",
       "      <td>-0.098592</td>\n",
       "      <td>3793.0</td>\n",
       "    </tr>\n",
       "  </tbody>\n",
       "</table>\n",
       "</div>"
      ],
      "text/plain": [
       "   PERMNO        date     PRC     VOL        RET  SHROUT\n",
       "0   10000  12/31/1985     NaN     NaN        NaN     NaN\n",
       "1   10000  01/31/1986 -4.3750  1771.0          C  3680.0\n",
       "2   10000  02/28/1986 -3.2500   828.0  -0.257143  3680.0\n",
       "3   10000  03/31/1986 -4.4375  1078.0   0.365385  3680.0\n",
       "4   10000  04/30/1986 -4.0000   957.0  -0.098592  3793.0"
      ]
     },
     "metadata": {},
     "output_type": "display_data"
    }
   ],
   "source": [
    "import pandas as pd\n",
    "import numpy as np\n",
    "\n",
    "three_factor_file_name = \"./data/05_df_ff_info.csv\"\n",
    "three_factor_df = pd.read_csv(three_factor_file_name)\n",
    "\n",
    "fundamental_file_name = \"./data/funda.csv\"\n",
    "fundamental_df = pd.read_csv(fundamental_file_name)\n",
    "\n",
    "monthly_stocks_file_name = \"./data/monthlystocks.csv\"\n",
    "monthly_stocks_df = pd.read_csv(monthly_stocks_file_name)\n",
    "\n",
    "\n",
    "display(three_factor_df.head())\n",
    "display(fundamental_df.head())\n",
    "display(monthly_stocks_df.head())"
   ]
  },
  {
   "attachments": {},
   "cell_type": "markdown",
   "metadata": {},
   "source": [
    "Apply filters"
   ]
  },
  {
   "cell_type": "code",
   "execution_count": 2,
   "metadata": {},
   "outputs": [
    {
     "name": "stdout",
     "output_type": "stream",
     "text": [
      "(181467, 17)\n"
     ]
    }
   ],
   "source": [
    "# Only US companies\n",
    "filter1 = fundamental_df['indfmt'] == 'INDL'\n",
    "filter2 = fundamental_df['curcd'] == 'USD'\n",
    "filter3 = fundamental_df['fic'] == 'USA'\n",
    "\n",
    "# Only big exchanges\n",
    "filter4 = fundamental_df['exchg'] >= 11\n",
    "filter5 = fundamental_df['exchg'] <= 19\n",
    "\n",
    "# Remove finance companies\n",
    "filter6 = ((fundamental_df['sic'] < 6000) | (fundamental_df['sic'] > 6999))\n",
    "\n",
    "# Apply filters\n",
    "fundamental_df = fundamental_df[filter1 & filter2 & filter3 & filter4 & filter5 & filter6]\n",
    "\n",
    "print(fundamental_df.shape)"
   ]
  },
  {
   "attachments": {},
   "cell_type": "markdown",
   "metadata": {},
   "source": [
    "Filter abnormal returns"
   ]
  },
  {
   "cell_type": "code",
   "execution_count": 3,
   "metadata": {},
   "outputs": [],
   "source": [
    "# Filter out NA values in RET column\n",
    "not_na = monthly_stocks_df['RET'].notna()\n",
    "monthly_stocks_df = monthly_stocks_df[not_na]\n",
    "\n",
    "# Filter out non-float values in RET column (e.g. 'C')\n",
    "monthly_stocks_df[\"RET\"] = monthly_stocks_df[\"RET\"].apply(pd.to_numeric, errors='coerce')\n",
    "\n",
    "# Filter out outliers\n",
    "filter1 = monthly_stocks_df['RET'] > -100\n",
    "filter2 = monthly_stocks_df['RET'] < 500\n",
    "monthly_stocks_df = monthly_stocks_df[filter1 & filter2]\n"
   ]
  },
  {
   "attachments": {},
   "cell_type": "markdown",
   "metadata": {},
   "source": [
    "Calc market cap"
   ]
  },
  {
   "cell_type": "code",
   "execution_count": 4,
   "metadata": {},
   "outputs": [],
   "source": [
    "filter1 = monthly_stocks_df['SHROUT'] > 0\n",
    "monthly_stocks_df = monthly_stocks_df[filter1]\n",
    "\n",
    "# Get most recent SHROUT if missing\n",
    "monthly_stocks_df['SHROUT'].fillna(method='ffill', inplace=True)\n",
    "\n",
    "# Fix price\n",
    "monthly_stocks_df['PRC'] = abs(monthly_stocks_df['PRC'])\n",
    "monthly_stocks_df['PRC'].replace(0, np.nan, inplace=True)\n",
    "\n",
    "# Drop na\n",
    "monthly_stocks_df.dropna(subset=['SHROUT', 'PRC'], inplace=True)\n",
    "\n",
    "# Calculate market cap\n",
    "monthly_stocks_df['MKT_CAP'] = monthly_stocks_df['PRC'] * monthly_stocks_df['SHROUT']"
   ]
  },
  {
   "cell_type": "code",
   "execution_count": 5,
   "metadata": {},
   "outputs": [
    {
     "data": {
      "text/plain": [
       "(3459593, 7)"
      ]
     },
     "execution_count": 5,
     "metadata": {},
     "output_type": "execute_result"
    }
   ],
   "source": [
    "monthly_stocks_df.shape"
   ]
  },
  {
   "attachments": {},
   "cell_type": "markdown",
   "metadata": {},
   "source": [
    "Parse date column and shift datadate by 3 months to avoid lookahead bias"
   ]
  },
  {
   "cell_type": "code",
   "execution_count": 6,
   "metadata": {},
   "outputs": [],
   "source": [
    "# Fundamental data parse datadate column\n",
    "fundamental_df['datadate'] = pd.to_datetime(fundamental_df['datadate'], format='%m/%d/%Y')\n",
    "\n",
    "# Shift it forward by 3 months\n",
    "fundamental_df['datadate'] = fundamental_df['datadate'] + pd.DateOffset(months=3)\n",
    "\n",
    "# Create a year column\n",
    "fundamental_df['year'] = fundamental_df['datadate'].dt.year"
   ]
  },
  {
   "attachments": {},
   "cell_type": "markdown",
   "metadata": {},
   "source": [
    "XRD calculation"
   ]
  },
  {
   "cell_type": "code",
   "execution_count": 7,
   "metadata": {},
   "outputs": [],
   "source": [
    "# Fill xrd column with 0 if it is NA\n",
    "fundamental_df['xrd'].fillna(0, inplace=True)\n",
    "\n",
    "# Sort the dataframe\n",
    "fundamental_df.sort_values(by=['datadate', 'LPERMNO'], inplace=True)\n",
    "fundamental_df.reset_index(drop=True, inplace=True)\n",
    "\n",
    "def calc_weighted_avg(five_period_series):\n",
    "    # xt * 1 + xt-1 * 0.8 + xt-2 * 0.6 + xt-3 * 0.4 + xt-4 * 0.2\n",
    "    return five_period_series[4] * 1 + five_period_series[3] * 0.8 + five_period_series[2] * 0.6 + five_period_series[1] * 0.4 + five_period_series[0] * 0.2\n",
    "\n",
    "# Calculate 5-period average of xrd\n",
    "rdc = fundamental_df.groupby('LPERMNO')['xrd'].rolling(5).apply(calc_weighted_avg, raw=True)\n",
    "rdc.reset_index(level=0, drop=True, inplace=True)\n",
    "rdc.sort_index(inplace=True)\n",
    "\n",
    "fundamental_df['rdc'] = rdc\n",
    "\n",
    "fundamental_df.dropna(subset=['rdc'], inplace=True)"
   ]
  },
  {
   "attachments": {},
   "cell_type": "markdown",
   "metadata": {},
   "source": [
    "Split firms into R&D firms "
   ]
  },
  {
   "cell_type": "code",
   "execution_count": 8,
   "metadata": {},
   "outputs": [],
   "source": [
    "non_rd_firms = fundamental_df[fundamental_df['rdc'] == 0].copy()\n",
    "rd_firms = fundamental_df[fundamental_df['rdc'] > 0].copy()"
   ]
  },
  {
   "cell_type": "code",
   "execution_count": 9,
   "metadata": {},
   "outputs": [
    {
     "name": "stdout",
     "output_type": "stream",
     "text": [
      "The shape of the dataframes are (61209, 19) and (61083, 19)\n",
      "The shape of fundamental_df is (122292, 19)\n"
     ]
    }
   ],
   "source": [
    "print(\"The shape of the dataframes are {} and {}\".format(non_rd_firms.shape, rd_firms.shape))\n",
    "print(\"The shape of fundamental_df is {}\".format(fundamental_df.shape))"
   ]
  },
  {
   "attachments": {},
   "cell_type": "markdown",
   "metadata": {},
   "source": [
    "Drop the useless columns"
   ]
  },
  {
   "cell_type": "code",
   "execution_count": 10,
   "metadata": {},
   "outputs": [],
   "source": [
    "# Only keep columns LPERMNO, datadate, rdc\n",
    "non_rd_firms = non_rd_firms[['LPERMNO', 'datadate', 'rdc']]\n",
    "rd_firms = rd_firms[['LPERMNO', 'datadate', 'rdc']]\n",
    "fundamental_df = fundamental_df[['LPERMNO', 'datadate', 'rdc']]"
   ]
  },
  {
   "attachments": {},
   "cell_type": "markdown",
   "metadata": {},
   "source": [
    "Most returns are end of month but some are a few days before. Fix this"
   ]
  },
  {
   "cell_type": "code",
   "execution_count": 11,
   "metadata": {},
   "outputs": [],
   "source": [
    "monthly_stocks_df['date'] = pd.to_datetime(monthly_stocks_df['date'], format='%m/%d/%Y')\n",
    "monthly_stocks_df['date'] = monthly_stocks_df['date'] + pd.tseries.offsets.MonthEnd(0)"
   ]
  },
  {
   "attachments": {},
   "cell_type": "markdown",
   "metadata": {},
   "source": [
    "Add a date Reconstitution date column in fundamental data"
   ]
  },
  {
   "cell_type": "code",
   "execution_count": 12,
   "metadata": {},
   "outputs": [],
   "source": [
    "import datetime\n",
    "\n",
    "# If data date before last day of reconstitution month, then it is the reconstitution date\n",
    "# Else it is the reconstitution date of the next year\n",
    "\n",
    "def get_reconstitution_date(row):\n",
    "    reconstitution_year = row['datadate'].year\n",
    "    reconstitution_month = 3\n",
    "    reconstituion_day = 31\n",
    "    reconst_date = datetime.datetime(reconstitution_year, reconstitution_month, reconstituion_day)\n",
    "\n",
    "    if row['datadate'] <= reconst_date:\n",
    "        return reconst_date\n",
    "    else:\n",
    "        return datetime.datetime(reconstitution_year + 1, reconstitution_month, reconstituion_day)\n",
    "\n",
    "rd_firms[\"reconstitution_date\"] = rd_firms.apply(get_reconstitution_date, axis=1)\n",
    "non_rd_firms[\"reconstitution_date\"] = non_rd_firms.apply(get_reconstitution_date, axis=1)"
   ]
  },
  {
   "attachments": {},
   "cell_type": "markdown",
   "metadata": {},
   "source": [
    "Merge with fundamental data with returns to add a market cap column"
   ]
  },
  {
   "cell_type": "code",
   "execution_count": 13,
   "metadata": {},
   "outputs": [],
   "source": [
    "# Merge fundamental data with monthly stock data to add market cap column\n",
    "\n",
    "# RD firms\n",
    "rd_firms = pd.merge(rd_firms, monthly_stocks_df, left_on=['LPERMNO', 'reconstitution_date'], right_on=['PERMNO', 'date'], how='left')\n",
    "\n",
    "# Non RD firms\n",
    "non_rd_firms = pd.merge(non_rd_firms, monthly_stocks_df, left_on=['LPERMNO', 'reconstitution_date'], right_on=['PERMNO', 'date'], how='left')"
   ]
  },
  {
   "attachments": {},
   "cell_type": "markdown",
   "metadata": {},
   "source": [
    "Calculate R&D to Market cap ratio"
   ]
  },
  {
   "cell_type": "code",
   "execution_count": 20,
   "metadata": {},
   "outputs": [],
   "source": [
    "rd_firms[\"rdc_to_mkt_cap\"] = rd_firms[\"rdc\"] / rd_firms[\"MKT_CAP\"]\n",
    "non_rd_firms[\"rdc_to_mkt_cap\"] = non_rd_firms[\"rdc\"] / non_rd_firms[\"MKT_CAP\"]"
   ]
  },
  {
   "attachments": {},
   "cell_type": "markdown",
   "metadata": {},
   "source": [
    "Drop Nan Market cap values"
   ]
  },
  {
   "cell_type": "code",
   "execution_count": 22,
   "metadata": {},
   "outputs": [],
   "source": [
    "# Drop if market cap is nan\n",
    "rd_firms.dropna(subset=['MKT_CAP'], inplace=True)\n",
    "non_rd_firms.dropna(subset=['MKT_CAP'], inplace=True)"
   ]
  },
  {
   "cell_type": "code",
   "execution_count": 23,
   "metadata": {},
   "outputs": [
    {
     "name": "stderr",
     "output_type": "stream",
     "text": [
      "Bad pipe message: %s [b's}y\\x86-\\xb6\\xd4\\xb0\\xf2\\xf7\\xf1\\xa0A\\xf2$QB\\xc1 \\xb0OwS\\x93\\xf6\\xbd\\xeb\\xd7O\\x9d\\x1f\\xda\\x0b\\xf1\\x814\\xc2\\xe9\\x10\\x81\\x06\\x8f\\xe8\\xbe\\xdeM\\xecr\\xdb\\xfdi\\x00\\x08\\x13\\x02\\x13\\x03\\x13\\x01\\x00\\xff\\x01\\x00\\x00\\x8f\\x00\\x00\\x00\\x0e\\x00\\x0c\\x00\\x00\\t127.0.0.1\\x00\\x0b\\x00\\x04\\x03\\x00\\x01\\x02\\x00\\n\\x00\\x0c\\x00\\n\\x00\\x1d\\x00\\x17\\x00\\x1e\\x00\\x19\\x00\\x18\\x00#\\x00\\x00\\x00\\x16\\x00\\x00\\x00\\x17\\x00\\x00\\x00\\r\\x00\\x1e\\x00\\x1c\\x04\\x03\\x05\\x03\\x06\\x03\\x08\\x07', b'\\x08\\t\\x08\\n\\x08\\x0b\\x08']\n",
      "Bad pipe message: %s [b'\\x05\\x08\\x06']\n",
      "Bad pipe message: %s [b'\\x05\\x01\\x06', b'']\n",
      "Bad pipe message: %s [b'\\x03\\x02\\x03\\x04\\x00-\\x00\\x02\\x01\\x01\\x003\\x00&\\x00$\\x00\\x1d\\x00 \\x03\\xe7\\x1c\\xbb\\t\\xee\\x07\\x99\\x0e0y/\\x85\\x7f\\x9e\\xa9I\\x19\\xa43\\xeao']\n",
      "Bad pipe message: %s [b'\\t\\xcdy\\x84\\xd0\\xba', b'7\\\\\\xed\\x02<@[\\x04S\\xd7\\x00\\x00|\\xc0,\\xc00\\x00\\xa3\\x00\\x9f\\xcc\\xa9\\xcc\\xa8\\xcc\\xaa\\xc0\\xaf\\xc0\\xad\\xc0\\xa3\\xc0\\x9f']\n",
      "Bad pipe message: %s [b\"\\xc0a\\xc0W\\xc0S\\xc0+\\xc0/\\x00\\xa2\\x00\\x9e\\xc0\\xae\\xc0\\xac\\xc0\\xa2\\xc0\\x9e\\xc0\\\\\\xc0`\\xc0V\\xc0R\\xc0$\\xc0(\\x00k\\x00j\\xc0#\\xc0'\\x00g\\x00@\\xc0\\n\\xc0\\x14\\x009\\x008\\xc0\\t\\xc0\\x13\\x003\\x002\\x00\\x9d\\xc0\\xa1\\xc0\\x9d\\xc0Q\\x00\\x9c\\xc0\\xa0\\xc0\\x9c\\xc0P\\x00=\\x00<\\x005\\x00/\\x00\\x9a\\x00\\x99\\xc0\\x07\\xc0\\x11\\x00\\x96\\x00\\x05\\x00\\xff\\x01\\x00\\x00j\\x00\\x00\\x00\\x0e\\x00\\x0c\\x00\\x00\\t127.0.0.1\\x00\\x0b\\x00\\x04\\x03\\x00\\x01\\x02\\x00\\n\\x00\\x0c\\x00\\n\\x00\\x1d\\x00\\x17\\x00\\x1e\\x00\\x19\\x00\\x18\\x00#\\x00\\x00\\x00\\x16\\x00\\x00\\x00\\x17\\x00\\x00\\x00\\r\\x000\\x00.\\x04\\x03\\x05\\x03\\x06\\x03\\x08\\x07\\x08\\x08\\x08\\t\\x08\\n\\x08\\x0b\\x08\\x04\\x08\\x05\\x08\\x06\\x04\\x01\\x05\\x01\\x06\", b'', b'\\x03\\x03']\n",
      "Bad pipe message: %s [b'']\n",
      "Bad pipe message: %s [b'', b'\\x02']\n",
      "Bad pipe message: %s [b'\\x05\\x02\\x06']\n",
      "Bad pipe message: %s [b'\\x13\\xf3{\\x0f~\\xfa\\x9e\\xac\\x14\\x0ee\\x9e*>\\xeb\\t\\xd9\\xe1\\x00\\x00\\xa6\\xc0,\\xc00\\x00\\xa3\\x00\\x9f\\xcc\\xa9\\xcc\\xa8\\xcc\\xaa\\xc0\\xaf\\xc0\\xad\\xc0\\xa3\\xc0\\x9f\\xc0]\\xc0', b\"W\\xc0S\\xc0+\\xc0/\\x00\\xa2\\x00\\x9e\\xc0\\xae\\xc0\\xac\\xc0\\xa2\\xc0\\x9e\\xc0\\\\\\xc0`\\xc0V\\xc0R\\xc0$\\xc0(\\x00k\\x00j\\xc0s\\xc0w\\x00\\xc4\\x00\\xc3\\xc0#\\xc0'\\x00g\\x00@\\xc0r\\xc0v\\x00\\xbe\\x00\\xbd\\xc0\\n\\xc0\\x14\\x009\\x008\\x00\\x88\\x00\\x87\\xc0\\t\\xc0\\x13\\x003\\x002\\x00\\x9a\\x00\\x99\\x00E\\x00D\\xc0\\x07\\xc0\\x11\\xc0\\x08\\xc0\\x12\\x00\"]\n",
      "Bad pipe message: %s [b'\\x13\\x00\\x9d\\xc0\\xa1\\xc0\\x9d\\xc0Q\\x00\\x9c\\xc0\\xa0\\xc0\\x9c\\xc0P\\x00=\\x00\\xc0']\n",
      "Bad pipe message: %s [b'\\xd7\\x02\\xcb\\xa2+y\\x11!\\xba\\xae\\xf0\\xf1-\\x8cb\\xa7 u\\x00\\x00>\\xc0\\x14\\xc0\\n\\x009\\x008\\x007\\x006\\xc0\\x0f\\xc0\\x05\\x005\\xc0\\x13\\xc0\\t\\x003\\x002\\x001\\x000\\xc0\\x0e\\xc0\\x04\\x00/\\x00\\x9a\\x00\\x99\\x00\\x98\\x00\\x97\\x00\\x96\\x00\\x07\\xc0\\x11\\xc0\\x07\\xc0\\x0c\\xc0\\x02\\x00\\x05\\x00\\x04\\x00\\xff\\x02\\x01\\x00\\x00C\\x00\\x00\\x00\\x0e\\x00\\x0c\\x00\\x00\\t127.0.0.1\\x00\\x0b\\x00\\x04\\x03\\x00', b'']\n",
      "Bad pipe message: %s [b'\\x96_>r\\x16\\xa4\\x8b\\x9cG\\x13K\\x81p\\xcc', b'VW\\x00\\x00\\xa2\\xc0\\x14\\xc0\\n\\x009\\x008\\x007\\x006\\x00\\x88\\x00\\x87\\x00\\x86\\x00\\x85\\xc0\\x19\\x00:\\x00\\x89\\xc0\\x0f\\xc0\\x05\\x005\\x00\\x84\\xc0\\x13\\xc0\\t\\x003\\x002\\x001\\x000\\x00\\x9a\\x00\\x99\\x00\\x98\\x00\\x97\\x00E\\x00D\\x00C\\x00B\\xc0\\x18\\x004\\x00\\x9b\\x00F\\xc0\\x0e\\xc0\\x04\\x00']\n",
      "Bad pipe message: %s [b'\\x96\\x00A\\x00\\x07\\xc0\\x11\\xc0\\x07\\xc0\\x16\\x00\\x18\\xc0\\x0c\\xc0\\x02\\x00\\x05\\x00\\x04\\xc0\\x12\\xc0\\x08\\x00\\x16\\x00\\x13\\x00\\x10\\x00\\r\\xc0\\x17\\x00\\x1b\\xc0\\r\\xc0\\x03\\x00\\n\\x00\\x15\\x00']\n",
      "Bad pipe message: %s [b'\\x0f\\x00\\x0c\\x00\\x1a\\x00\\t\\x00\\x14\\x00\\x11\\x00\\x19\\x00\\x08\\x00\\x06']\n",
      "Bad pipe message: %s [b'\\x154\\xa8\\xd4\\x9f;\\x96\\x14SP\\xe1{<=\\x01R\\x8dC\\x00\\x00>\\xc0\\x14\\xc0\\n\\x009\\x008\\x007\\x006\\xc0\\x0f\\xc0\\x05\\x005\\xc0\\x13\\xc0\\t\\x003\\x002\\x001\\x000\\xc0\\x0e\\xc0\\x04\\x00/\\x00\\x9a\\x00\\x99\\x00\\x98\\x00\\x97\\x00\\x96\\x00\\x07\\xc0\\x11\\xc0\\x07\\xc0\\x0c\\xc0\\x02\\x00\\x05\\x00\\x04\\x00\\xff\\x02\\x01\\x00\\x00C\\x00\\x00\\x00\\x0e\\x00\\x0c\\x00\\x00\\t127.0.0.1\\x00\\x0b\\x00\\x04\\x03\\x00\\x01\\x02\\x00\\n\\x00\\x1c\\x00\\x1a\\x00\\x17']\n",
      "Bad pipe message: %s [b'\\xa3\\xab\\x01^iDe\\\\U\\xd3\\xdaH5\\x96\\xe8\\xa37\\xea\\x00\\x00\\xa2\\xc0\\x14\\xc0\\n\\x009\\x008\\x007\\x006\\x00\\x88\\x00\\x87\\x00\\x86\\x00\\x85\\xc0\\x19\\x00:\\x00\\x89\\xc0\\x0f\\xc0\\x05\\x005\\x00\\x84\\xc0\\x13\\xc0\\t\\x003\\x002\\x001\\x000\\x00\\x9a\\x00\\x99\\x00\\x98\\x00\\x97\\x00E\\x00D\\x00C\\x00B\\xc0\\x18\\x004\\x00\\x9b\\x00F\\xc0\\x0e\\xc0\\x04\\x00/\\x00\\x96\\x00A\\x00\\x07\\xc0\\x11\\xc0\\x07\\xc0\\x16\\x00\\x18\\xc0\\x0c\\xc0\\x02\\x00\\x05\\x00\\x04\\xc0\\x12\\xc0\\x08\\x00\\x16\\x00\\x13\\x00\\x10\\x00\\r\\xc0\\x17\\x00\\x1b\\xc0\\r\\xc0\\x03\\x00\\n\\x00\\x15\\x00\\x12\\x00\\x0f\\x00\\x0c\\x00\\x1a\\x00']\n",
      "Bad pipe message: %s [b'\\x14\\x00\\x11\\x00\\x19\\x00\\x08\\x00']\n",
      "Bad pipe message: %s [b'\\x17\\x00\\x03\\xc0\\x10']\n",
      "Bad pipe message: %s [b'd\\xfe\\x9fGk!\\xfb\\x9f5\\x1b\\xd0\\xb06\\xa1\\xf6\\x8dV&\\x00\\x00\\xa2\\xc0\\x14\\xc0\\n\\x009\\x008\\x007\\x006\\x00\\x88\\x00\\x87\\x00\\x86\\x00\\x85\\xc0\\x19\\x00:\\x00\\x89\\xc0\\x0f\\xc0\\x05\\x005\\x00\\x84\\xc0\\x13\\xc0\\t\\x003\\x002\\x001\\x000\\x00\\x9a\\x00\\x99\\x00\\x98\\x00\\x97\\x00E\\x00D\\x00C\\x00B\\xc0\\x18\\x004\\x00\\x9b\\x00F\\xc0\\x0e\\xc0\\x04\\x00/\\x00\\x96\\x00A\\x00\\x07\\xc0\\x11\\xc0\\x07\\xc0\\x16\\x00\\x18\\xc0\\x0c\\xc0\\x02\\x00\\x05\\x00\\x04\\xc0\\x12\\xc0\\x08\\x00\\x16\\x00\\x13\\x00\\x10\\x00\\r\\xc0\\x17\\x00\\x1b\\xc0\\r\\xc0', b'\\n\\x00']\n",
      "Bad pipe message: %s [b'\\x12\\x00\\x0f\\x00\\x0c\\x00\\x1a\\x00\\t\\x00\\x14\\x00\\x11\\x00\\x19\\x00\\x08\\x00\\x06\\x00']\n",
      "Bad pipe message: %s [b'\\x03\\xc0\\x10\\xc0\\x06\\xc0\\x15\\xc0\\x0b\\xc0\\x01\\x00\\x02\\x00\\x01\\x00\\xff\\x02\\x01\\x00\\x15\\x03']\n",
      "Bad pipe message: %s [b\"\\xf5\\xe3\\xc3M=\\xa8u\\xb3\\xa1\\xf40\\x02gN#Z\\x9f\\x02\\x00\\x00\\x86\\xc00\\xc0,\\xc0(\\xc0$\\xc0\\x14\\xc0\\n\\x00\\xa5\\x00\\xa3\\x00\\xa1\\x00\\x9f\\x00k\\x00j\\x00i\\x00h\\x009\\x008\\x007\\x006\\xc02\\xc0.\\xc0*\\xc0&\\xc0\\x0f\\xc0\\x05\\x00\\x9d\\x00=\\x005\\xc0/\\xc0+\\xc0'\\xc0#\\xc0\\x13\\xc0\\t\\x00\\xa4\\x00\\xa2\\x00\\xa0\\x00\\x9e\\x00g\\x00@\\x00?\\x00>\\x003\\x002\\x001\\x000\\xc01\\xc0-\\xc0)\\xc0%\\xc0\\x0e\\xc0\\x04\\x00\\x9c\\x00<\\x00/\\x00\\x9a\\x00\\x99\\x00\\x98\\x00\\x97\\x00\\x96\\x00\\x07\\xc0\\x11\\xc0\"]\n",
      "Bad pipe message: %s [b'\\x0c\\xc0\\x02\\x00\\x05\\x00']\n",
      "Bad pipe message: %s [b'\\xff\\x02\\x01']\n",
      "Bad pipe message: %s [b'\\x13\\x05\\xff\\xec\\x13\\xfe!\\x81?\"\\x15\\xbd\\x1b\\x7f]\\xe7D\\xb0\\x00\\x00\\xf4\\xc00\\xc0,\\xc0(\\xc0$\\xc0\\x14\\xc0\\n\\x00\\xa5\\x00\\xa3\\x00\\xa1\\x00\\x9f\\x00k\\x00j\\x00i\\x00h\\x009\\x008\\x007\\x006\\x00\\x88\\x00\\x87\\x00\\x86\\x00\\x85\\xc0\\x19\\x00\\xa7\\x00m\\x00:\\x00\\x89\\xc02\\xc0.\\xc0*\\xc0&\\xc0\\x0f\\xc0\\x05\\x00\\x9d\\x00=\\x005\\x00\\x84\\xc0/\\xc0+\\xc0\\'\\xc0#\\xc0\\x13\\xc0\\t\\x00\\xa4\\x00\\xa2\\x00\\xa0\\x00\\x9e\\x00g\\x00@\\x00?\\x00>\\x003\\x002\\x001\\x000\\x00\\x9a\\x00\\x99\\x00\\x98\\x00\\x97\\x00E\\x00D\\x00C\\x00B\\xc0\\x18\\x00\\xa6\\x00l\\x004\\x00\\x9b\\x00F\\xc0', b'-\\xc0)\\xc0%\\xc0\\x0e\\xc0\\x04\\x00\\x9c\\x00<\\x00/\\x00\\x96\\x00A\\x00\\x07\\xc0\\x11\\xc0\\x07\\xc0\\x16\\x00\\x18\\xc0\\x0c\\xc0\\x02\\x00\\x05\\x00\\x04\\xc0\\x12\\xc0\\x08\\x00\\x16\\x00\\x13\\x00\\x10\\x00']\n",
      "Bad pipe message: %s [b'\\x17\\x00\\x1b\\xc0\\r\\xc0\\x03\\x00\\n\\x00\\x15\\x00']\n",
      "Bad pipe message: %s [b'\\x0f\\x00\\x0c\\x00\\x1a\\x00\\t\\x00\\x14\\x00\\x11\\x00\\x19\\x00\\x08\\x00\\x06']\n"
     ]
    }
   ],
   "source": [
    "# Export data to pkl files\n",
    "\n",
    "rd_firms.to_pickle(\"data/rd_firms.pkl\")\n",
    "non_rd_firms.to_pickle(\"data/non_rd_firms.pkl\")\n",
    "fundamental_df.to_pickle(\"data/fundamental_df.pkl\")\n",
    "monthly_stocks_df.to_pickle(\"data/monthly_stocks_df.pkl\")"
   ]
  }
 ],
 "metadata": {
  "kernelspec": {
   "display_name": "Python 3 (ipykernel)",
   "language": "python",
   "name": "python3"
  },
  "language_info": {
   "codemirror_mode": {
    "name": "ipython",
    "version": 3
   },
   "file_extension": ".py",
   "mimetype": "text/x-python",
   "name": "python",
   "nbconvert_exporter": "python",
   "pygments_lexer": "ipython3",
   "version": "3.10.4"
  },
  "orig_nbformat": 4,
  "vscode": {
   "interpreter": {
    "hash": "3ad933181bd8a04b432d3370b9dc3b0662ad032c4dfaa4e4f1596c548f763858"
   }
  }
 },
 "nbformat": 4,
 "nbformat_minor": 2
}
